{
  "nbformat": 4,
  "nbformat_minor": 0,
  "metadata": {
    "colab": {
      "name": "Cifar_100.ipynb",
      "provenance": [],
      "collapsed_sections": []
    },
    "kernelspec": {
      "name": "python3",
      "display_name": "Python 3"
    },
    "accelerator": "GPU"
  },
  "cells": [
    {
      "cell_type": "code",
      "metadata": {
        "id": "eIsPniKjtYa7",
        "colab_type": "code",
        "outputId": "deb6f380-dbce-46d9-edca-61ec63eadb6e",
        "colab": {
          "base_uri": "https://localhost:8080/",
          "height": 34
        }
      },
      "source": [
        "# All imports\n",
        "from __future__ import print_function\n",
        "import keras\n",
        "from keras.datasets import cifar100\n",
        "from keras.preprocessing.image import ImageDataGenerator\n",
        "from keras.models import Sequential, load_model\n",
        "from keras.layers import Dense, Dropout, Activation, Flatten\n",
        "from keras.layers import Conv2D, MaxPooling2D\n",
        "import matplotlib.pyplot as plt\n",
        "\n",
        "import os\n",
        "import pickle\n",
        "import numpy as np\n",
        "import h5py"
      ],
      "execution_count": 1,
      "outputs": [
        {
          "output_type": "stream",
          "text": [
            "Using TensorFlow backend.\n"
          ],
          "name": "stderr"
        }
      ]
    },
    {
      "cell_type": "code",
      "metadata": {
        "id": "xZhZNOLVtbEt",
        "colab_type": "code",
        "outputId": "efd062c7-ebff-4737-bc33-b35e7cbaffe5",
        "colab": {
          "base_uri": "https://localhost:8080/",
          "height": 119
        }
      },
      "source": [
        "# Preparing data for training and testing NN\n",
        "num_classes = 100\n",
        "save_dir = os.path.join(os.getcwd(), 'saved_models')\n",
        "model_name = 'cifar100.h5'\n",
        "print(save_dir)\n",
        "\n",
        "# The data, shuffled and split between train and test sets:\n",
        "(x_train, y_train), (x_test, y_test) = cifar100.load_data()\n",
        "print('x_train shape:', x_train.shape)\n",
        "print(x_train.shape[0], 'train samples')\n",
        "print(x_test.shape[0], 'test samples')\n",
        "\n",
        "# Convert class vectors to binary class matrices.\n",
        "y_train = keras.utils.to_categorical(y_train, num_classes)\n",
        "y_test = keras.utils.to_categorical(y_test, num_classes)\n",
        "\n",
        "x_train = x_train.astype('float32')\n",
        "x_test = x_test.astype('float32')\n",
        "x_train /= 255.\n",
        "x_test /= 255.\n",
        "\n",
        "epochs = 1\n",
        "data_augmentation = True\n",
        "num_predictions = 20\n",
        "batch_size = 64\n",
        "validations = []"
      ],
      "execution_count": 2,
      "outputs": [
        {
          "output_type": "stream",
          "text": [
            "/content/saved_models\n",
            "Downloading data from https://www.cs.toronto.edu/~kriz/cifar-100-python.tar.gz\n",
            "169009152/169001437 [==============================] - 6s 0us/step\n",
            "x_train shape: (50000, 32, 32, 3)\n",
            "50000 train samples\n",
            "10000 test samples\n"
          ],
          "name": "stdout"
        }
      ]
    },
    {
      "cell_type": "code",
      "metadata": {
        "id": "dAgc1B0zth_U",
        "colab_type": "code",
        "colab": {}
      },
      "source": [
        "# Model creation\n",
        "model = Sequential()\n",
        "\n",
        "model.add(Conv2D(64, (3, 3), padding='same',\n",
        "                 input_shape=x_train.shape[1:]))\n",
        "model.add(Activation('elu'))\n",
        "model.add(Conv2D(64, (3, 3)))\n",
        "model.add(Activation('elu'))\n",
        "model.add(MaxPooling2D(pool_size=(2, 2),padding='same'))\n",
        "#model.add(Dropout(0.25))\n",
        "\n",
        "model.add(Conv2D(128, (3, 3), padding='same'))\n",
        "model.add(Activation('elu'))\n",
        "model.add(Conv2D(128, (3, 3)))\n",
        "model.add(Activation('elu'))\n",
        "model.add(MaxPooling2D(pool_size=(2, 2),padding='same'))\n",
        "model.add(Dropout(0.15))\n",
        "\n",
        "model.add(Conv2D(192, (3, 3), padding='same'))\n",
        "model.add(Activation('elu'))\n",
        "model.add(Conv2D(192, (3, 3)))\n",
        "model.add(Activation('elu'))\n",
        "model.add(MaxPooling2D(pool_size=(2, 2),padding='same'))\n",
        "model.add(Dropout(0.15))\n",
        "\n",
        "model.add(Conv2D(256, (3, 3), padding='same'))\n",
        "model.add(Activation('elu'))\n",
        "model.add(Conv2D(256, (3, 3)))\n",
        "model.add(Activation('elu'))\n",
        "model.add(MaxPooling2D(pool_size=(2, 2),padding='same'))\n",
        "model.add(Dropout(0.15))\n",
        "\n",
        "model.add(Flatten())\n",
        "model.add(Dense(1024))\n",
        "model.add(Activation('elu'))\n",
        "model.add(Dropout(0.5))\n",
        "model.add(Dense(num_classes))\n",
        "model.add(Activation('softmax'))\n",
        "\n",
        "# initiate RMSprop optimizer\n",
        "opt = keras.optimizers.rmsprop(lr=0.0001, decay=1e-6)\n",
        "\n",
        "# Let's train the model using RMSprop\n",
        "model.compile(loss='categorical_crossentropy',\n",
        "              optimizer=opt,\n",
        "              metrics=['accuracy'])"
      ],
      "execution_count": 0,
      "outputs": []
    },
    {
      "cell_type": "code",
      "metadata": {
        "id": "ddIRI2UQtoBs",
        "colab_type": "code",
        "outputId": "8a7a8e2e-6b5b-4b2e-8226-b27a067ff074",
        "colab": {
          "base_uri": "https://localhost:8080/",
          "height": 68
        }
      },
      "source": [
        "# Training model\n",
        "if not data_augmentation:\n",
        "    print('Not using data augmentation.')\n",
        "else:\n",
        "    print('Using real-time data augmentation.')    \n",
        "for i in range(epochs):\n",
        "    if not data_augmentation:\n",
        "        model.fit(x_train, y_train,\n",
        "                  batch_size=batch_size,\n",
        "                  epochs=epochs,\n",
        "                  validation_data=(x_test, y_test),\n",
        "                  shuffle=True)\n",
        "    else:\n",
        "        # This will do preprocessing and realtime data augmentation:\n",
        "        datagen = ImageDataGenerator(\n",
        "            featurewise_center=False,  # set input mean to 0 over the dataset\n",
        "            samplewise_center=False,  # set each sample mean to 0\n",
        "            featurewise_std_normalization=False,  # divide inputs by std of the dataset\n",
        "            samplewise_std_normalization=False,  # divide each input by its std\n",
        "            zca_whitening=False,  # apply ZCA whitening\n",
        "            rotation_range=0,  # randomly rotate images in the range (degrees, 0 to 180)\n",
        "            width_shift_range=0.1,  # randomly shift images horizontally (fraction of total width)\n",
        "            height_shift_range=0.1,  # randomly shift images vertically (fraction of total height)\n",
        "            horizontal_flip=True,  # randomly flip images\n",
        "            vertical_flip=False)  # randomly flip images\n",
        "\n",
        "        # Compute quantities required for feature-wise normalization\n",
        "        # (std, mean, and principal components if ZCA whitening is applied).\n",
        "        datagen.fit(x_train)\n",
        "\n",
        "        # Fit the model on the batches generated by datagen.flow().\n",
        "        model.fit_generator(datagen.flow(x_train, y_train,\n",
        "                                         batch_size=batch_size),\n",
        "                            steps_per_epoch=x_train.shape[0] // batch_size,\n",
        "                            epochs=1,\n",
        "                            validation_data=(x_test, y_test))\n",
        "        validations.append(model.evaluate_generator(datagen.flow(x_test, y_test,\n",
        "                                          batch_size=batch_size),\n",
        "                                          steps=x_test.shape[0] // batch_size))\n",
        "\n",
        "pickle.dump(validations, open(\"loss_validation.p\",'wb'))"
      ],
      "execution_count": 0,
      "outputs": [
        {
          "output_type": "stream",
          "text": [
            "Using real-time data augmentation.\n",
            "Epoch 1/1\n",
            "781/781 [==============================] - 47s 60ms/step - loss: 1.2615 - acc: 0.6494 - val_loss: 1.4905 - val_acc: 0.6067\n"
          ],
          "name": "stdout"
        }
      ]
    },
    {
      "cell_type": "code",
      "metadata": {
        "id": "Bg7hihsEtuXG",
        "colab_type": "code",
        "outputId": "af7e6b44-d8cd-452d-b41a-5b19d3a675fb",
        "colab": {
          "base_uri": "https://localhost:8080/",
          "height": 391
        }
      },
      "source": [
        "# Predictions of model\n",
        "label_list_path = 'datasets/cifar-100-python/meta'\n",
        "\n",
        "keras_dir = os.path.expanduser(os.path.join('~', '.keras'))\n",
        "datadir_base = os.path.expanduser(keras_dir)\n",
        "if not os.access(datadir_base, os.W_OK):\n",
        "    datadir_base = os.path.join('/tmp', '.keras')\n",
        "label_list_path = os.path.join(datadir_base, label_list_path)\n",
        "\n",
        "with open(label_list_path, mode='rb') as f:\n",
        "    labels = pickle.load(f)\n",
        "\n",
        "# Evaluate model with test data set and share sample prediction results\n",
        "evaluation = model.evaluate_generator(datagen.flow(x_test, y_test,\n",
        "                                      batch_size=batch_size),\n",
        "                                      steps=x_test.shape[0] // batch_size)\n",
        "\n",
        "print('Model Accuracy = %.2f' % (evaluation[1]))\n",
        "\n",
        "predict_gen = model.predict_generator(datagen.flow(x_test, y_test,\n",
        "                                      batch_size=batch_size),\n",
        "                                      steps=x_test.shape[0] // batch_size)\n",
        "\n",
        "for predict_index, predicted_y in enumerate(predict_gen):\n",
        "    actual_label = labels['fine_label_names'][np.argmax(y_test[predict_index])]\n",
        "    predicted_label = labels['fine_label_names'][np.argmax(predicted_y)]\n",
        "    print('Actual Label = %s vs. Predicted Label = %s' % (actual_label,\n",
        "                                                          predicted_label))\n",
        "    if predict_index == num_predictions:\n",
        "        break"
      ],
      "execution_count": 0,
      "outputs": [
        {
          "output_type": "stream",
          "text": [
            "Model Accuracy = 0.60\n",
            "Actual Label = mountain vs. Predicted Label = pear\n",
            "Actual Label = forest vs. Predicted Label = wardrobe\n",
            "Actual Label = seal vs. Predicted Label = man\n",
            "Actual Label = mushroom vs. Predicted Label = keyboard\n",
            "Actual Label = sea vs. Predicted Label = elephant\n",
            "Actual Label = tulip vs. Predicted Label = pear\n",
            "Actual Label = camel vs. Predicted Label = kangaroo\n",
            "Actual Label = butterfly vs. Predicted Label = woman\n",
            "Actual Label = cloud vs. Predicted Label = motorcycle\n",
            "Actual Label = apple vs. Predicted Label = maple_tree\n",
            "Actual Label = sea vs. Predicted Label = skyscraper\n",
            "Actual Label = skunk vs. Predicted Label = orchid\n",
            "Actual Label = streetcar vs. Predicted Label = cloud\n",
            "Actual Label = rocket vs. Predicted Label = pear\n",
            "Actual Label = lamp vs. Predicted Label = woman\n",
            "Actual Label = lion vs. Predicted Label = couch\n",
            "Actual Label = tulip vs. Predicted Label = cup\n",
            "Actual Label = wolf vs. Predicted Label = bowl\n",
            "Actual Label = rose vs. Predicted Label = dolphin\n",
            "Actual Label = orange vs. Predicted Label = mushroom\n",
            "Actual Label = rose vs. Predicted Label = man\n"
          ],
          "name": "stdout"
        }
      ]
    },
    {
      "cell_type": "code",
      "metadata": {
        "id": "hR-y9D4gdCYt",
        "colab_type": "code",
        "outputId": "990ecd77-1350-4dc1-ec62-698d8b60e84f",
        "colab": {
          "base_uri": "https://localhost:8080/",
          "height": 351
        }
      },
      "source": [
        "# Some test dump to see how model works\n",
        "x = np.random.randint(0,len(x_test))\n",
        "prediction = np.argmax(model.predict(np.array([x_test[x]])))\n",
        "actual = np.argmax(y_test[x])\n",
        "print(prediction)\n",
        "print(actual)\n",
        "print(labels['fine_label_names'][prediction])\n",
        "print(labels['fine_label_names'][actual])\n",
        "plt.imshow(x_test[x])"
      ],
      "execution_count": 0,
      "outputs": [
        {
          "output_type": "stream",
          "text": [
            "94\n",
            "94\n",
            "wardrobe\n",
            "wardrobe\n"
          ],
          "name": "stdout"
        },
        {
          "output_type": "execute_result",
          "data": {
            "text/plain": [
              "<matplotlib.image.AxesImage at 0x7fb5361cb160>"
            ]
          },
          "metadata": {
            "tags": []
          },
          "execution_count": 46
        },
        {
          "output_type": "display_data",
          "data": {
            "image/png": "[encoded data removed]",
            "text/plain": [
              "<Figure size 432x288 with 1 Axes>"
            ]
          },
          "metadata": {
            "tags": []
          }
        }
      ]
    },
    {
      "cell_type": "code",
      "metadata": {
        "id": "Dezu8A-srZHX",
        "colab_type": "code",
        "colab": {}
      },
      "source": [
        ""
      ],
      "execution_count": 0,
      "outputs": []
    }
  ]
}