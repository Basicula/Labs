{
 "cells": [
  {
   "cell_type": "code",
   "execution_count": 165,
   "metadata": {},
   "outputs": [],
   "source": [
    "import numpy as np\n",
    "import matplotlib.pyplot as plt"
   ]
  },
  {
   "cell_type": "code",
   "execution_count": 166,
   "metadata": {},
   "outputs": [],
   "source": [
    "def CheckBase(points):\n",
    "    dists = [np.linalg.norm(points[0]-points[1]),np.linalg.norm(points[0]-points[2]),np.linalg.norm(points[2]-points[1])]\n",
    "    dists.sort()\n",
    "    return (dists[0] + dists[1] > dists[2])"
   ]
  },
  {
   "cell_type": "code",
   "execution_count": 167,
   "metadata": {},
   "outputs": [],
   "source": [
    "def CheckIntersectionTwosegment(s1,s2):\n",
    "    k1 = (s1[0][1] - s1[1][1])/(s1[0][0] - s1[1][0])\n",
    "    b1 = s1[0][1] - k1 * s1[0][0]\n",
    "    k2 = (s2[0][1] - s2[1][1])/(s2[0][0] - s2[1][0])\n",
    "    b2 = s2[0][1] - k2 * s2[0][0]\n",
    "    if (s2[0][1] - s2[0][0] * k1 - b1)*(s2[1][1] - s2[1][0] * k1 - b1) <= 0 and (s1[0][1] - s1[0][0] * k2 - b2)*(s1[1][1] - s1[1][0] * k2 - b2) <= 0:\n",
    "        return True\n",
    "    return False"
   ]
  },
  {
   "cell_type": "code",
   "execution_count": 168,
   "metadata": {},
   "outputs": [],
   "source": [
    "def CheckIntersection(s1,s2):\n",
    "    a1 = s1[0][1] - s1[1][1]\n",
    "    b1 = s1[1][0] - s1[0][0]\n",
    "    c1 = -b1*s1[0][1] - a1*s1[0][0]\n",
    "    a2 = s2[0][1] - s2[1][1]\n",
    "    b2 = s2[1][0] - s2[0][0]\n",
    "    c2 = -b2*s2[0][1] - a2*s2[0][0]\n",
    "    if (s2[0][1]*b1 + s2[0][0] * a1 + c1)*(s2[1][1]*b1 + s2[1][0] * a1 + c1) <= 0 and (s1[0][1]*b2 + s1[0][0] * a2 + c2)*(s1[1][1]*b2 + s1[1][0] * a2 + c2) <= 0:\n",
    "        return True\n",
    "    return False"
   ]
  },
  {
   "cell_type": "code",
   "execution_count": 169,
   "metadata": {},
   "outputs": [],
   "source": [
    "def CheckIfExist(point,figure):\n",
    "    for p in figure:\n",
    "        if p[0] == point[0] and p[1] == point[1]:\n",
    "            return True\n",
    "    return False"
   ]
  },
  {
   "cell_type": "code",
   "execution_count": 170,
   "metadata": {},
   "outputs": [],
   "source": [
    "def GetBase(points):\n",
    "    i1,i2,i3 = np.random.randint(points.shape[0],size = 3)\n",
    "    while not CheckBase([points[i1],points[i2],points[i3]]):\n",
    "        i1,i2,i3 = np.random.randint(points.shape[0],size = 3)\n",
    "    res = np.array([points[i2],points[i3],points[i1]])\n",
    "    return res"
   ]
  },
  {
   "cell_type": "code",
   "execution_count": 171,
   "metadata": {},
   "outputs": [],
   "source": [
    "def UpdateFigure(point,figure):\n",
    "    size = figure.shape[0]\n",
    "    edgeind = np.random.randint(0,size)\n",
    "    newedge1 = [figure[edgeind],point]\n",
    "    newedge2 = [figure[(edgeind+1)%size],point]\n",
    "    for i in range(0,size):\n",
    "        if i == edgeind:\n",
    "            continue\n",
    "        currEdge = [figure[i],figure[(i+1)%size]]\n",
    "        currAndFirst = CheckIntersection(currEdge,newedge1) \n",
    "        currAndSecond = CheckIntersection(currEdge,newedge2)\n",
    "        if currAndFirst or currAndSecond:\n",
    "            if i == (size + edgeind - 1)%size and not currAndSecond:\n",
    "                continue\n",
    "            elif i == (edgeind + 1)%size and not currAndFirst:\n",
    "                continue\n",
    "            return figure\n",
    "    figure = np.insert(figure,(edgeind+1)%size,point,axis=0)\n",
    "    return figure"
   ]
  },
  {
   "cell_type": "code",
   "execution_count": 172,
   "metadata": {},
   "outputs": [],
   "source": [
    "def UpdateAnyway(point,figure):\n",
    "    if CheckIfExist(point,figure):\n",
    "        return figure\n",
    "    while True:\n",
    "        newFigure = UpdateFigure(point,figure)\n",
    "        if newFigure.shape[0]!= figure.shape[0]:\n",
    "            return newFigure"
   ]
  },
  {
   "cell_type": "code",
   "execution_count": 173,
   "metadata": {},
   "outputs": [],
   "source": [
    "def CreateRandomPoints(count):\n",
    "    return np.random.randint(100,size = (count,2))"
   ]
  },
  {
   "cell_type": "code",
   "execution_count": 174,
   "metadata": {},
   "outputs": [],
   "source": [
    "def ShowPoints(points):\n",
    "    for p in points:\n",
    "        plt.plot(p[0],p[1],'bo')\n",
    "    plt.plot(points[0][0],points[0][1],'r.')\n",
    "    plt.show()"
   ]
  },
  {
   "cell_type": "code",
   "execution_count": 175,
   "metadata": {},
   "outputs": [],
   "source": [
    "def DrawRandomSimpleFigure(points):\n",
    "    return"
   ]
  },
  {
   "cell_type": "code",
   "execution_count": 176,
   "metadata": {},
   "outputs": [],
   "source": [
    "def FindPolygonArea(points):\n",
    "    area = 0\n",
    "    for i in range(1,points.shape[0]):\n",
    "        area += np.cross(points[i],points[i-1])/2\n",
    "    return abs(area)"
   ]
  },
  {
   "cell_type": "code",
   "execution_count": 177,
   "metadata": {},
   "outputs": [],
   "source": [
    "def FindPolygonAreaTrapezia(points):\n",
    "    area = 0\n",
    "    for i in range(1,points.shape[0]):\n",
    "        area += (points[i][0] - points[i-1][0])*(points[i][1]+points[i-1][1])/2\n",
    "    return abs(area)"
   ]
  },
  {
   "cell_type": "code",
   "execution_count": 183,
   "metadata": {},
   "outputs": [],
   "source": [
    "points = CreateRandomPoints(50)\n",
    "triangleBase = GetBase(points)\n",
    "minarea = 100*100\n",
    "minpolygon = []"
   ]
  },
  {
   "cell_type": "code",
   "execution_count": 244,
   "metadata": {},
   "outputs": [
    {
     "name": "stdout",
     "output_type": "stream",
     "text": [
      "2825.5\n",
      "2825.5\n"
     ]
    },
    {
     "data": {
      "text/plain": [
       "[<matplotlib.patches.Polygon at 0x8705c33be0>]"
      ]
     },
     "execution_count": 244,
     "metadata": {},
     "output_type": "execute_result"
    },
    {
     "data": {
      "image/png": "[encoded data removed]",
      "text/html": [
       "\n",
       "\n",
       "<style>\n",
       "\n",
       "</style>\n",
       "\n",
       "<div id=\"fig_el6125799175104727321081677\"></div>\n",
       "<script>\n",
       "function mpld3_load_lib(url, callback){\n",
       "  var s = document.createElement('script');\n",
       "  s.src = url;\n",
       "  s.async = true;\n",
       "  s.onreadystatechange = s.onload = callback;\n",
       "  s.onerror = function(){console.warn(\"failed to load library \" + url);};\n",
       "  document.getElementsByTagName(\"head\")[0].appendChild(s);\n",
       "}\n",
       "\n",
       "if(typeof(mpld3) !== \"undefined\" && mpld3._mpld3IsLoaded){\n",
       "   // already loaded: just create the figure\n",
       "   !function(mpld3){\n",
       "       \n",
       "       mpld3.draw_figure(\"fig_el6125799175104727321081677\", {\"width\": 432.0, \"height\": 288.0, \"axes\": [{\"bbox\": [0.125, 0.125, 0.775, 0.755], \"xlim\": [-4.95, 103.95], \"ylim\": [-4.95, 103.95], \"xdomain\": [-4.95, 103.95], \"ydomain\": [-4.95, 103.95], \"xscale\": \"linear\", \"yscale\": \"linear\", \"axes\": [{\"position\": \"bottom\", \"nticks\": 8, \"tickvalues\": null, \"tickformat\": null, \"scale\": \"linear\", \"fontsize\": 10.0, \"grid\": {\"gridOn\": false}, \"visible\": true}, {\"position\": \"left\", \"nticks\": 8, \"tickvalues\": null, \"tickformat\": null, \"scale\": \"linear\", \"fontsize\": 10.0, \"grid\": {\"gridOn\": false}, \"visible\": true}], \"axesbg\": \"#FFFFFF\", \"axesbgalpha\": null, \"zoomable\": true, \"id\": \"el612579918041384\", \"lines\": [{\"data\": \"data01\", \"xindex\": 0, \"yindex\": 1, \"coordinates\": \"data\", \"id\": \"el612579918127960\", \"color\": \"#007F00\", \"linewidth\": 1.5, \"dasharray\": \"none\", \"alpha\": 1, \"zorder\": 2, \"drawstyle\": \"default\"}], \"paths\": [{\"data\": \"data02\", \"xindex\": 0, \"yindex\": 1, \"coordinates\": \"data\", \"pathcodes\": [\"M\", \"L\", \"L\", \"L\", \"L\", \"L\", \"L\", \"L\", \"L\", \"L\", \"L\", \"L\", \"L\", \"L\", \"L\", \"L\", \"L\", \"L\", \"L\", \"L\", \"L\", \"L\", \"L\", \"L\", \"L\", \"L\", \"L\", \"L\", \"L\", \"L\", \"L\", \"L\", \"L\", \"L\", \"L\", \"L\", \"L\", \"L\", \"L\", \"L\", \"L\", \"L\", \"L\", \"L\", \"L\", \"L\", \"L\", \"L\", \"L\", \"L\", \"Z\"], \"id\": \"el612579917265888\", \"dasharray\": \"none\", \"alpha\": 1, \"facecolor\": \"#FF0000\", \"edgecolor\": \"none\", \"edgewidth\": 1.0, \"zorder\": 1}], \"markers\": [], \"texts\": [], \"collections\": [], \"images\": [], \"sharex\": [], \"sharey\": []}], \"data\": {\"data01\": [[58.0, 82.0], [71.0, 80.0], [81.0, 62.0], [76.0, 74.0], [94.0, 55.0], [83.0, 65.0], [81.0, 50.0], [77.0, 65.0], [68.0, 38.0], [67.0, 80.0], [65.0, 60.0], [62.0, 40.0], [65.0, 65.0], [49.0, 66.0], [45.0, 69.0], [33.0, 48.0], [41.0, 32.0], [41.0, 21.0], [72.0, 10.0], [94.0, 51.0], [92.0, 46.0], [84.0, 5.0], [76.0, 0.0], [61.0, 0.0], [67.0, 10.0], [21.0, 25.0], [20.0, 36.0], [17.0, 25.0], [2.0, 9.0], [0.0, 12.0], [36.0, 59.0], [42.0, 85.0], [17.0, 84.0], [23.0, 53.0], [3.0, 65.0], [0.0, 72.0], [10.0, 82.0], [9.0, 89.0], [23.0, 93.0], [71.0, 99.0], [71.0, 93.0], [78.0, 93.0], [44.0, 92.0], [99.0, 74.0], [35.0, 92.0], [39.0, 90.0], [50.0, 85.0], [56.0, 83.0], [66.0, 82.0], [48.0, 83.0], [58.0, 82.0]], \"data02\": [[58.0, 82.0], [71.0, 80.0], [81.0, 62.0], [76.0, 74.0], [94.0, 55.0], [83.0, 65.0], [81.0, 50.0], [77.0, 65.0], [68.0, 38.0], [67.0, 80.0], [65.0, 60.0], [62.0, 40.0], [65.0, 65.0], [49.0, 66.0], [45.0, 69.0], [33.0, 48.0], [41.0, 32.0], [41.0, 21.0], [72.0, 10.0], [94.0, 51.0], [92.0, 46.0], [84.0, 5.0], [76.0, 0.0], [61.0, 0.0], [67.0, 10.0], [21.0, 25.0], [20.0, 36.0], [17.0, 25.0], [2.0, 9.0], [0.0, 12.0], [36.0, 59.0], [42.0, 85.0], [17.0, 84.0], [23.0, 53.0], [3.0, 65.0], [0.0, 72.0], [10.0, 82.0], [9.0, 89.0], [23.0, 93.0], [71.0, 99.0], [71.0, 93.0], [78.0, 93.0], [44.0, 92.0], [99.0, 74.0], [35.0, 92.0], [39.0, 90.0], [50.0, 85.0], [56.0, 83.0], [66.0, 82.0], [48.0, 83.0]]}, \"id\": \"el612579917510472\", \"plugins\": [{\"type\": \"reset\"}, {\"type\": \"zoom\", \"button\": true, \"enabled\": false}, {\"type\": \"boxzoom\", \"button\": true, \"enabled\": false}]});\n",
       "   }(mpld3);\n",
       "}else if(typeof define === \"function\" && define.amd){\n",
       "   // require.js is available: use it to load d3/mpld3\n",
       "   require.config({paths: {d3: \"https://mpld3.github.io/js/d3.v3.min\"}});\n",
       "   require([\"d3\"], function(d3){\n",
       "      window.d3 = d3;\n",
       "      mpld3_load_lib(\"https://mpld3.github.io/js/mpld3.v0.3.js\", function(){\n",
       "         \n",
       "         mpld3.draw_figure(\"fig_el6125799175104727321081677\", {\"width\": 432.0, \"height\": 288.0, \"axes\": [{\"bbox\": [0.125, 0.125, 0.775, 0.755], \"xlim\": [-4.95, 103.95], \"ylim\": [-4.95, 103.95], \"xdomain\": [-4.95, 103.95], \"ydomain\": [-4.95, 103.95], \"xscale\": \"linear\", \"yscale\": \"linear\", \"axes\": [{\"position\": \"bottom\", \"nticks\": 8, \"tickvalues\": null, \"tickformat\": null, \"scale\": \"linear\", \"fontsize\": 10.0, \"grid\": {\"gridOn\": false}, \"visible\": true}, {\"position\": \"left\", \"nticks\": 8, \"tickvalues\": null, \"tickformat\": null, \"scale\": \"linear\", \"fontsize\": 10.0, \"grid\": {\"gridOn\": false}, \"visible\": true}], \"axesbg\": \"#FFFFFF\", \"axesbgalpha\": null, \"zoomable\": true, \"id\": \"el612579918041384\", \"lines\": [{\"data\": \"data01\", \"xindex\": 0, \"yindex\": 1, \"coordinates\": \"data\", \"id\": \"el612579918127960\", \"color\": \"#007F00\", \"linewidth\": 1.5, \"dasharray\": \"none\", \"alpha\": 1, \"zorder\": 2, \"drawstyle\": \"default\"}], \"paths\": [{\"data\": \"data02\", \"xindex\": 0, \"yindex\": 1, \"coordinates\": \"data\", \"pathcodes\": [\"M\", \"L\", \"L\", \"L\", \"L\", \"L\", \"L\", \"L\", \"L\", \"L\", \"L\", \"L\", \"L\", \"L\", \"L\", \"L\", \"L\", \"L\", \"L\", \"L\", \"L\", \"L\", \"L\", \"L\", \"L\", \"L\", \"L\", \"L\", \"L\", \"L\", \"L\", \"L\", \"L\", \"L\", \"L\", \"L\", \"L\", \"L\", \"L\", \"L\", \"L\", \"L\", \"L\", \"L\", \"L\", \"L\", \"L\", \"L\", \"L\", \"L\", \"Z\"], \"id\": \"el612579917265888\", \"dasharray\": \"none\", \"alpha\": 1, \"facecolor\": \"#FF0000\", \"edgecolor\": \"none\", \"edgewidth\": 1.0, \"zorder\": 1}], \"markers\": [], \"texts\": [], \"collections\": [], \"images\": [], \"sharex\": [], \"sharey\": []}], \"data\": {\"data01\": [[58.0, 82.0], [71.0, 80.0], [81.0, 62.0], [76.0, 74.0], [94.0, 55.0], [83.0, 65.0], [81.0, 50.0], [77.0, 65.0], [68.0, 38.0], [67.0, 80.0], [65.0, 60.0], [62.0, 40.0], [65.0, 65.0], [49.0, 66.0], [45.0, 69.0], [33.0, 48.0], [41.0, 32.0], [41.0, 21.0], [72.0, 10.0], [94.0, 51.0], [92.0, 46.0], [84.0, 5.0], [76.0, 0.0], [61.0, 0.0], [67.0, 10.0], [21.0, 25.0], [20.0, 36.0], [17.0, 25.0], [2.0, 9.0], [0.0, 12.0], [36.0, 59.0], [42.0, 85.0], [17.0, 84.0], [23.0, 53.0], [3.0, 65.0], [0.0, 72.0], [10.0, 82.0], [9.0, 89.0], [23.0, 93.0], [71.0, 99.0], [71.0, 93.0], [78.0, 93.0], [44.0, 92.0], [99.0, 74.0], [35.0, 92.0], [39.0, 90.0], [50.0, 85.0], [56.0, 83.0], [66.0, 82.0], [48.0, 83.0], [58.0, 82.0]], \"data02\": [[58.0, 82.0], [71.0, 80.0], [81.0, 62.0], [76.0, 74.0], [94.0, 55.0], [83.0, 65.0], [81.0, 50.0], [77.0, 65.0], [68.0, 38.0], [67.0, 80.0], [65.0, 60.0], [62.0, 40.0], [65.0, 65.0], [49.0, 66.0], [45.0, 69.0], [33.0, 48.0], [41.0, 32.0], [41.0, 21.0], [72.0, 10.0], [94.0, 51.0], [92.0, 46.0], [84.0, 5.0], [76.0, 0.0], [61.0, 0.0], [67.0, 10.0], [21.0, 25.0], [20.0, 36.0], [17.0, 25.0], [2.0, 9.0], [0.0, 12.0], [36.0, 59.0], [42.0, 85.0], [17.0, 84.0], [23.0, 53.0], [3.0, 65.0], [0.0, 72.0], [10.0, 82.0], [9.0, 89.0], [23.0, 93.0], [71.0, 99.0], [71.0, 93.0], [78.0, 93.0], [44.0, 92.0], [99.0, 74.0], [35.0, 92.0], [39.0, 90.0], [50.0, 85.0], [56.0, 83.0], [66.0, 82.0], [48.0, 83.0]]}, \"id\": \"el612579917510472\", \"plugins\": [{\"type\": \"reset\"}, {\"type\": \"zoom\", \"button\": true, \"enabled\": false}, {\"type\": \"boxzoom\", \"button\": true, \"enabled\": false}]});\n",
       "      });\n",
       "    });\n",
       "}else{\n",
       "    // require.js not available: dynamically load d3 & mpld3\n",
       "    mpld3_load_lib(\"https://mpld3.github.io/js/d3.v3.min.js\", function(){\n",
       "         mpld3_load_lib(\"https://mpld3.github.io/js/mpld3.v0.3.js\", function(){\n",
       "                 \n",
       "                 mpld3.draw_figure(\"fig_el6125799175104727321081677\", {\"width\": 432.0, \"height\": 288.0, \"axes\": [{\"bbox\": [0.125, 0.125, 0.775, 0.755], \"xlim\": [-4.95, 103.95], \"ylim\": [-4.95, 103.95], \"xdomain\": [-4.95, 103.95], \"ydomain\": [-4.95, 103.95], \"xscale\": \"linear\", \"yscale\": \"linear\", \"axes\": [{\"position\": \"bottom\", \"nticks\": 8, \"tickvalues\": null, \"tickformat\": null, \"scale\": \"linear\", \"fontsize\": 10.0, \"grid\": {\"gridOn\": false}, \"visible\": true}, {\"position\": \"left\", \"nticks\": 8, \"tickvalues\": null, \"tickformat\": null, \"scale\": \"linear\", \"fontsize\": 10.0, \"grid\": {\"gridOn\": false}, \"visible\": true}], \"axesbg\": \"#FFFFFF\", \"axesbgalpha\": null, \"zoomable\": true, \"id\": \"el612579918041384\", \"lines\": [{\"data\": \"data01\", \"xindex\": 0, \"yindex\": 1, \"coordinates\": \"data\", \"id\": \"el612579918127960\", \"color\": \"#007F00\", \"linewidth\": 1.5, \"dasharray\": \"none\", \"alpha\": 1, \"zorder\": 2, \"drawstyle\": \"default\"}], \"paths\": [{\"data\": \"data02\", \"xindex\": 0, \"yindex\": 1, \"coordinates\": \"data\", \"pathcodes\": [\"M\", \"L\", \"L\", \"L\", \"L\", \"L\", \"L\", \"L\", \"L\", \"L\", \"L\", \"L\", \"L\", \"L\", \"L\", \"L\", \"L\", \"L\", \"L\", \"L\", \"L\", \"L\", \"L\", \"L\", \"L\", \"L\", \"L\", \"L\", \"L\", \"L\", \"L\", \"L\", \"L\", \"L\", \"L\", \"L\", \"L\", \"L\", \"L\", \"L\", \"L\", \"L\", \"L\", \"L\", \"L\", \"L\", \"L\", \"L\", \"L\", \"L\", \"Z\"], \"id\": \"el612579917265888\", \"dasharray\": \"none\", \"alpha\": 1, \"facecolor\": \"#FF0000\", \"edgecolor\": \"none\", \"edgewidth\": 1.0, \"zorder\": 1}], \"markers\": [], \"texts\": [], \"collections\": [], \"images\": [], \"sharex\": [], \"sharey\": []}], \"data\": {\"data01\": [[58.0, 82.0], [71.0, 80.0], [81.0, 62.0], [76.0, 74.0], [94.0, 55.0], [83.0, 65.0], [81.0, 50.0], [77.0, 65.0], [68.0, 38.0], [67.0, 80.0], [65.0, 60.0], [62.0, 40.0], [65.0, 65.0], [49.0, 66.0], [45.0, 69.0], [33.0, 48.0], [41.0, 32.0], [41.0, 21.0], [72.0, 10.0], [94.0, 51.0], [92.0, 46.0], [84.0, 5.0], [76.0, 0.0], [61.0, 0.0], [67.0, 10.0], [21.0, 25.0], [20.0, 36.0], [17.0, 25.0], [2.0, 9.0], [0.0, 12.0], [36.0, 59.0], [42.0, 85.0], [17.0, 84.0], [23.0, 53.0], [3.0, 65.0], [0.0, 72.0], [10.0, 82.0], [9.0, 89.0], [23.0, 93.0], [71.0, 99.0], [71.0, 93.0], [78.0, 93.0], [44.0, 92.0], [99.0, 74.0], [35.0, 92.0], [39.0, 90.0], [50.0, 85.0], [56.0, 83.0], [66.0, 82.0], [48.0, 83.0], [58.0, 82.0]], \"data02\": [[58.0, 82.0], [71.0, 80.0], [81.0, 62.0], [76.0, 74.0], [94.0, 55.0], [83.0, 65.0], [81.0, 50.0], [77.0, 65.0], [68.0, 38.0], [67.0, 80.0], [65.0, 60.0], [62.0, 40.0], [65.0, 65.0], [49.0, 66.0], [45.0, 69.0], [33.0, 48.0], [41.0, 32.0], [41.0, 21.0], [72.0, 10.0], [94.0, 51.0], [92.0, 46.0], [84.0, 5.0], [76.0, 0.0], [61.0, 0.0], [67.0, 10.0], [21.0, 25.0], [20.0, 36.0], [17.0, 25.0], [2.0, 9.0], [0.0, 12.0], [36.0, 59.0], [42.0, 85.0], [17.0, 84.0], [23.0, 53.0], [3.0, 65.0], [0.0, 72.0], [10.0, 82.0], [9.0, 89.0], [23.0, 93.0], [71.0, 99.0], [71.0, 93.0], [78.0, 93.0], [44.0, 92.0], [99.0, 74.0], [35.0, 92.0], [39.0, 90.0], [50.0, 85.0], [56.0, 83.0], [66.0, 82.0], [48.0, 83.0]]}, \"id\": \"el612579917510472\", \"plugins\": [{\"type\": \"reset\"}, {\"type\": \"zoom\", \"button\": true, \"enabled\": false}, {\"type\": \"boxzoom\", \"button\": true, \"enabled\": false}]});\n",
       "            })\n",
       "         });\n",
       "}\n",
       "</script>"
      ],
      "text/plain": [
       "<Figure size 432x288 with 1 Axes>"
      ]
     },
     "metadata": {
      "needs_background": "light"
     },
     "output_type": "display_data"
    }
   ],
   "source": [
    "%matplotlib inline\n",
    "import mpld3\n",
    "mpld3.enable_notebook()\n",
    "for i in range(0,10):\n",
    "    triangleBase = GetBase(points)\n",
    "    figure = triangleBase\n",
    "    for p in points:\n",
    "        figure = UpdateAnyway(p,figure)\n",
    "    figure = np.append(figure,[figure[0]],axis = 0)\n",
    "    area = FindPolygonArea(figure)\n",
    "    if area<minarea:\n",
    "        minarea = area\n",
    "        minpolygon = figure\n",
    "figure = minpolygon\n",
    "print(FindPolygonArea(figure))\n",
    "print(FindPolygonAreaTrapezia(figure))\n",
    "plt.plot(figure[:,0],figure[:,1],'g')\n",
    "plt.fill(figure[:,0],figure[:,1],'r')\n",
    "#ShowPoints(points)"
   ]
  },
  {
   "cell_type": "code",
   "execution_count": null,
   "metadata": {},
   "outputs": [],
   "source": []
  }
 ],
 "metadata": {
  "kernelspec": {
   "display_name": "Python 3",
   "language": "python",
   "name": "python3"
  },
  "language_info": {
   "codemirror_mode": {
    "name": "ipython",
    "version": 3
   },
   "file_extension": ".py",
   "mimetype": "text/x-python",
   "name": "python",
   "nbconvert_exporter": "python",
   "pygments_lexer": "ipython3",
   "version": "3.7.1"
  }
 },
 "nbformat": 4,
 "nbformat_minor": 2
}
